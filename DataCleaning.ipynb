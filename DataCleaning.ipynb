{
 "cells": [
  {
   "cell_type": "markdown",
   "metadata": {},
   "source": [
    "# Data Cleaning \n",
    "\n",
    "\n",
    "###### The training dataset is comprised from 2 sources: Umweltbundesamt and LANUV website. The one from UBA consists of concentrations measurements, the one from LANUV also contains concentrations measurements, with the addition of meteorological features. \n",
    "###### The Precipitation ( rain fall) features is obtained from the Python package wetterdienst.\n",
    "######  Since the training range was slowly adapted and not determined initally, the data was obtained in year, hence the package 2022, 2023, 2024."
   ]
  },
  {
   "cell_type": "code",
   "execution_count": 2,
   "metadata": {},
   "outputs": [],
   "source": [
    "# import all the necessary libraries\n",
    "\n",
    "# typical data processing libraries\n",
    "import numpy as np\n",
    "import pandas as pd\n",
    "# libraries for plotting\n",
    "\n",
    "import matplotlib.pyplot as plt\n",
    "import seaborn as sns"
   ]
  },
  {
   "cell_type": "markdown",
   "metadata": {},
   "source": [
    "### Handling UBA data( concentrations dataset)"
   ]
  },
  {
   "cell_type": "code",
   "execution_count": 12,
   "metadata": {},
   "outputs": [],
   "source": [
    "# load the data\n",
    "#2022\n",
    "\n",
    "chor_2022 = pd.read_csv('Data/2022/Chorweiler_2022-01-01_00-2023-01-02_00.csv',sep= ';')\n",
    "cle_2022 =pd.read_csv('Data/2022/Clevischer-Ring_2022-01-01_00-2023-01-02_00.csv',sep= ';')\n",
    "turi_2022 =pd.read_csv('Data/2022/Turiner-Strasse_2022-01-01_00-2023-01-02_00.csv',sep= ';')\n",
    "rod_2022 = pd.read_csv('Data/2022/Turiner-Strasse_2022-01-01_00-2023-01-02_00.csv',sep= ';')\n",
    "\n",
    "#2023 \n",
    "chor_2023_1st_half = pd.read_csv('Data/2023/Koeln-Chorweiler_2023-01-01_00-2023-06-01_23.csv',sep= ';')\n",
    "cle_2023_1st_half = pd.read_csv('Data/2023/Koeln-Clevischer-Ring_2023-01-01_00-2023-06-01_23.csv',sep= ';')\n",
    "rod_2023_1st_half = pd.read_csv('Data/2023/Koeln-Rodenkirchen_2023-01-01_00-2023-06-01_23.csv',sep= ';')\n",
    "turi_2023_1st_half = pd.read_csv('Data/2023/Luftqualitaet_DENW212_Koeln-Turiner-Strasse_2023-01-01_00-2023-06-01_23.csv',sep= ';')\n",
    "\n",
    "chor_2023 = pd.read_csv('Data/2023/Luftqualitaet_DENW053_Koeln-Chorweiler_2023-05-31_23-2024-01-01_00.csv',sep= ';')\n",
    "cle_2023 = pd.read_csv('Data/2023/Luftqualitaet_DENW211_Koeln-Clevischer-Ring_2023-05-31_23-2024-01-01_00.csv',sep= ';')\n",
    "turi_2023 = pd.read_csv('Data/2023/Luftqualitaet_DENW212_Koeln-Turiner-Strasse_2023-05-31_23-2024-01-01_00.csv',sep= ';')\n",
    "rod_2023 = pd.read_csv('Data/2023/Luftqualitaet_DENW059_Koeln-Rodenkirchen_2023-05-31_23-2024-01-01_00.csv',sep= ';')\n",
    "\n",
    "#2024\n",
    "chor_2024 = pd.read_csv('Data/2024/Luftqualitaet_DENW053_Koeln-Chorweiler_2024-01-01_00-2024-03-31_23.csv',sep= ';')\n",
    "cle_2024 = pd.read_csv('Data/2024/Luftqualitaet_DENW211_Koeln-Clevischer-Ring_2024-01-01_00-2024-03-31_23.csv',sep= ';')\n",
    "turi_2024 = pd.read_csv('Data/2024/Luftqualitaet_DENW212_Koeln-Turiner-Strasse_2024-01-01_00-2024-03-31_23.csv',sep= ';')\n",
    "rod_2024 = pd.read_csv('Data/2024/Luftqualitaet_DENW059_Koeln-Rodenkirchen_2024-01-01_00-2024-03-31_23.csv',sep= ';')\n",
    "\n",
    "\n",
    "\n",
    "\n",
    "\n",
    "\n"
   ]
  },
  {
   "cell_type": "code",
   "execution_count": 14,
   "metadata": {},
   "outputs": [],
   "source": [
    "# functions to reformat the datetime\n",
    "\n",
    "def reformat_date(df):\n",
    "    df['Datum'] = df['Datum'].str.replace('24:00', '00:00')\n",
    "    df['Datum'] = df['Datum'].str.strip(\"'\")\n",
    "    df['Datum'] = pd.to_datetime(df['Datum'], format='%d.%m.%Y %H:%M')\n",
    "    df.loc[df['Datum'].dt.hour == 0, 'Datum'] += pd.Timedelta(days=1)\n",
    "    \n",
    "    return df\n",
    "    "
   ]
  },
  {
   "cell_type": "code",
   "execution_count": 15,
   "metadata": {},
   "outputs": [],
   "source": [
    "chor_2022 = reformat_date(chor_2022)"
   ]
  },
  {
   "cell_type": "code",
   "execution_count": 17,
   "metadata": {},
   "outputs": [],
   "source": [
    "cle_2022 = reformat_date(cle_2022)\n",
    "turi_2022 = reformat_date(turi_2022)\n",
    "rod_2022 = reformat_date(rod_2022)\n",
    "\n",
    "chor_2023_1st_half = reformat_date(chor_2023_1st_half)\n",
    "cle_2023_1st_half = reformat_date(cle_2023_1st_half)\n",
    "rod_2023_1st_half = reformat_date(rod_2023_1st_half)\n",
    "turi_2023_1st_half = reformat_date(turi_2023_1st_half)\n",
    "\n",
    "chor_2023 = reformat_date(chor_2023)\n",
    "cle_2023 = reformat_date(cle_2023)\n",
    "turi_2023 = reformat_date(turi_2023)\n",
    "rod_2023 = reformat_date(rod_2023)\n",
    "\n",
    "chor_2024 = reformat_date(chor_2024)\n",
    "cle_2024 = reformat_date(cle_2024)\n",
    "turi_2024 = reformat_date(turi_2024)\n",
    "rod_2024 = reformat_date(rod_2024)\n"
   ]
  },
  {
   "cell_type": "code",
   "execution_count": 19,
   "metadata": {},
   "outputs": [],
   "source": [
    "def change_variable_name(df):\n",
    "    df.columns= ['Stationscode', 'Date', 'PM_10', 'O3',\n",
    "                           'NO2','PM_2.5', 'AQI']\n",
    "    \n",
    "    return df\n",
    "\n"
   ]
  },
  {
   "cell_type": "code",
   "execution_count": 20,
   "metadata": {},
   "outputs": [],
   "source": [
    "def reformat_numeric_values(df):\n",
    "    if 'PM_10' in df.columns:\n",
    "        df['PM_10'] = df['PM_10'].replace('-', np.nan)\n",
    "        df['PM_10'] = pd.to_numeric(df['PM_10'])\n",
    "    if 'PM_2.5' in df.columns:\n",
    "        df['PM_2.5'] = df['PM_2.5'].replace('-', np.nan)\n",
    "        df['PM_2.5'] = pd.to_numeric(df['PM_2.5'])\n",
    "    if 'NO2' in df.columns:\n",
    "        df['NO2'] = df['NO2'].replace('-', np.nan)\n",
    "        df['NO2'] = pd.to_numeric(df['NO2'])\n",
    "        \n",
    "    if 'O3' in df.columns:\n",
    "        df['O3'] = df['O3'].replace('-', np.nan)\n",
    "        df['O3'] = pd.to_numeric(df['O3'])\n",
    "    \n",
    "    return df"
   ]
  },
  {
   "cell_type": "code",
   "execution_count": 21,
   "metadata": {},
   "outputs": [
    {
     "name": "stderr",
     "output_type": "stream",
     "text": [
      "C:\\Users\\riven\\AppData\\Local\\Temp\\ipykernel_15940\\1530242792.py:6: FutureWarning: Downcasting behavior in `replace` is deprecated and will be removed in a future version. To retain the old behavior, explicitly call `result.infer_objects(copy=False)`. To opt-in to the future behavior, set `pd.set_option('future.no_silent_downcasting', True)`\n",
      "  df['PM_2.5'] = df['PM_2.5'].replace('-', np.nan)\n",
      "C:\\Users\\riven\\AppData\\Local\\Temp\\ipykernel_15940\\1530242792.py:13: FutureWarning: Downcasting behavior in `replace` is deprecated and will be removed in a future version. To retain the old behavior, explicitly call `result.infer_objects(copy=False)`. To opt-in to the future behavior, set `pd.set_option('future.no_silent_downcasting', True)`\n",
      "  df['O3'] = df['O3'].replace('-', np.nan)\n"
     ]
    }
   ],
   "source": [
    "chor_2022 = change_variable_name(chor_2022)\n",
    "cle_2022 = change_variable_name(cle_2022)\n",
    "turi_2022 = change_variable_name(turi_2022)\n",
    "rod_2022 = change_variable_name(rod_2022)\n",
    "\n",
    "chor_2023_1st_half = change_variable_name(chor_2023_1st_half)\n",
    "cle_2023_1st_half = change_variable_name(cle_2023_1st_half)\n",
    "rod_2023_1st_half = change_variable_name(rod_2023_1st_half)\n",
    "turi_2023_1st_half = change_variable_name(turi_2023_1st_half)\n",
    "\n",
    "chor_2023 = change_variable_name(chor_2023)\n",
    "cle_2023 = change_variable_name(cle_2023)\n",
    "turi_2023 = change_variable_name(turi_2023)\n",
    "rod_2023 = change_variable_name(rod_2023)\n",
    "\n",
    "chor_2024 = change_variable_name(chor_2024)\n",
    "cle_2024 = change_variable_name(cle_2024)\n",
    "turi_2024 = change_variable_name(turi_2024)\n",
    "rod_2024 = change_variable_name(rod_2024)\n",
    "\n",
    "chor_2022 = reformat_numeric_values(chor_2022)\n",
    "cle_2022 = reformat_numeric_values(cle_2022)\n",
    "turi_2022 = reformat_numeric_values(turi_2022)\n",
    "rod_2022 = reformat_numeric_values(rod_2022)\n",
    "\n",
    "chor_2023_1st_half = reformat_numeric_values(chor_2023_1st_half)\n",
    "cle_2023_1st_half = reformat_numeric_values(cle_2023_1st_half)\n",
    "rod_2023_1st_half = reformat_numeric_values(rod_2023_1st_half)\n",
    "turi_2023_1st_half = reformat_numeric_values(turi_2023_1st_half)\n",
    "\n",
    "chor_2023 = reformat_numeric_values(chor_2023)\n",
    "cle_2023 = reformat_numeric_values(cle_2023)\n",
    "turi_2023 = reformat_numeric_values(turi_2023)\n",
    "rod_2023 = reformat_numeric_values(rod_2023)    \n",
    "\n",
    "\n",
    "chor_2024 = reformat_numeric_values(chor_2024)\n",
    "cle_2024 = reformat_numeric_values(cle_2024)\n",
    "turi_2024 = reformat_numeric_values(turi_2024)\n",
    "rod_2024 = reformat_numeric_values(rod_2024)"
   ]
  },
  {
   "cell_type": "code",
   "execution_count": 28,
   "metadata": {},
   "outputs": [
    {
     "data": {
      "text/html": [
       "<div>\n",
       "<style scoped>\n",
       "    .dataframe tbody tr th:only-of-type {\n",
       "        vertical-align: middle;\n",
       "    }\n",
       "\n",
       "    .dataframe tbody tr th {\n",
       "        vertical-align: top;\n",
       "    }\n",
       "\n",
       "    .dataframe thead th {\n",
       "        text-align: right;\n",
       "    }\n",
       "</style>\n",
       "<table border=\"1\" class=\"dataframe\">\n",
       "  <thead>\n",
       "    <tr style=\"text-align: right;\">\n",
       "      <th></th>\n",
       "      <th>Stationscode</th>\n",
       "      <th>Date</th>\n",
       "      <th>PM_10</th>\n",
       "      <th>O3</th>\n",
       "      <th>NO2</th>\n",
       "      <th>PM_2.5</th>\n",
       "      <th>AQI</th>\n",
       "    </tr>\n",
       "  </thead>\n",
       "  <tbody>\n",
       "    <tr>\n",
       "      <th>5133</th>\n",
       "      <td>DENW211</td>\n",
       "      <td>2023-12-31 21:00:00</td>\n",
       "      <td>6.0</td>\n",
       "      <td>NaN</td>\n",
       "      <td>11.0</td>\n",
       "      <td>4.0</td>\n",
       "      <td>sehr gut</td>\n",
       "    </tr>\n",
       "    <tr>\n",
       "      <th>5134</th>\n",
       "      <td>DENW211</td>\n",
       "      <td>2023-12-31 22:00:00</td>\n",
       "      <td>6.0</td>\n",
       "      <td>NaN</td>\n",
       "      <td>11.0</td>\n",
       "      <td>4.0</td>\n",
       "      <td>sehr gut</td>\n",
       "    </tr>\n",
       "    <tr>\n",
       "      <th>5135</th>\n",
       "      <td>DENW211</td>\n",
       "      <td>2023-12-31 23:00:00</td>\n",
       "      <td>6.0</td>\n",
       "      <td>NaN</td>\n",
       "      <td>12.0</td>\n",
       "      <td>4.0</td>\n",
       "      <td>sehr gut</td>\n",
       "    </tr>\n",
       "    <tr>\n",
       "      <th>5136</th>\n",
       "      <td>DENW211</td>\n",
       "      <td>2024-01-01 00:00:00</td>\n",
       "      <td>6.0</td>\n",
       "      <td>NaN</td>\n",
       "      <td>14.0</td>\n",
       "      <td>4.0</td>\n",
       "      <td>sehr gut</td>\n",
       "    </tr>\n",
       "    <tr>\n",
       "      <th>5137</th>\n",
       "      <td>DENW211</td>\n",
       "      <td>2024-01-01 01:00:00</td>\n",
       "      <td>13.0</td>\n",
       "      <td>NaN</td>\n",
       "      <td>NaN</td>\n",
       "      <td>10.0</td>\n",
       "      <td>sehr gut</td>\n",
       "    </tr>\n",
       "  </tbody>\n",
       "</table>\n",
       "</div>"
      ],
      "text/plain": [
       "     Stationscode                Date  PM_10  O3   NO2  PM_2.5       AQI\n",
       "5133      DENW211 2023-12-31 21:00:00    6.0 NaN  11.0     4.0  sehr gut\n",
       "5134      DENW211 2023-12-31 22:00:00    6.0 NaN  11.0     4.0  sehr gut\n",
       "5135      DENW211 2023-12-31 23:00:00    6.0 NaN  12.0     4.0  sehr gut\n",
       "5136      DENW211 2024-01-01 00:00:00    6.0 NaN  14.0     4.0  sehr gut\n",
       "5137      DENW211 2024-01-01 01:00:00   13.0 NaN   NaN    10.0  sehr gut"
      ]
     },
     "execution_count": 28,
     "metadata": {},
     "output_type": "execute_result"
    }
   ],
   "source": [
    "\n"
   ]
  },
  {
   "cell_type": "code",
   "execution_count": 29,
   "metadata": {},
   "outputs": [],
   "source": [
    "# drop the columns that are with all missing values\n",
    "chor_2022 = chor_2022.dropna(axis=1, how='all')\n",
    "chor_2023_1st_half = chor_2023_1st_half.dropna(axis=1, how='all')\n",
    "chor_2023 = chor_2023.dropna(axis=1, how='all')\n",
    "chor_2024 = chor_2024.dropna(axis=1, how='all')\n",
    "\n",
    "cle_2022 = cle_2022.dropna(axis=1, how='all')\n",
    "cle_2023_1st_half = cle_2023_1st_half.dropna(axis=1, how='all')\n",
    "cle_2023 = cle_2023.dropna(axis=1, how='all')\n",
    "cle_2024 = cle_2024.dropna(axis=1, how='all')\n",
    "\n",
    "turi_2022 = turi_2022.dropna(axis=1, how='all')\n",
    "turi_2023_1st_half = turi_2023_1st_half.dropna(axis=1, how='all')\n",
    "turi_2023 = turi_2023.dropna(axis=1, how='all')\n",
    "turi_2024 = turi_2024.dropna(axis=1, how='all')\n",
    "\n",
    "rod_2022 = rod_2022.dropna(axis=1, how='all')\n",
    "rod_2023_1st_half = rod_2023_1st_half.dropna(axis=1, how='all')\n",
    "rod_2023 = rod_2023.dropna(axis=1, how='all')\n",
    "rod_2024 = rod_2024.dropna(axis=1, how='all')\n",
    "\n",
    "#drop the last row( the tag UBA is not needed)\n",
    "\n",
    "chor_2022 = chor_2022.iloc[:-1]\n",
    "chor_2023_1st_half = chor_2023_1st_half.iloc[:-1]\n",
    "chor_2024 = chor_2024.iloc[:-1]\n",
    "\n",
    "cle_2022 = cle_2022.iloc[:-1]\n",
    "cle_2023_1st_half = cle_2023_1st_half.iloc[:-1]\n",
    "cle_2024 = cle_2024.iloc[:-1]\n",
    "\n",
    "turi_2022 = turi_2022.iloc[:-1]\n",
    "turi_2023_1st_half = turi_2023_1st_half.iloc[:-1]\n",
    "turi_2024 = turi_2024.iloc[:-1]\n",
    "\n"
   ]
  },
  {
   "cell_type": "markdown",
   "metadata": {},
   "source": [
    "### Handling data from LANUV website\n",
    "\n",
    "###### The data from LANUV comes in 2 time intervals: last 365 days and archived data from the measuring start until December 2022. The data for first half of 2023 is missing\n",
    "\n",
    "###### The meteorological data for this time interval is replaced by the data obtained from wetterdienst, from the station Stammheim.\n"
   ]
  },
  {
   "cell_type": "code",
   "execution_count": 50,
   "metadata": {},
   "outputs": [
    {
     "name": "stderr",
     "output_type": "stream",
     "text": [
      "C:\\Users\\riven\\AppData\\Local\\Temp\\ipykernel_15940\\3549922146.py:3: DtypeWarning: Columns (2,6,7,8) have mixed types. Specify dtype option on import or set low_memory=False.\n",
      "  chor_2022_weather = pd.read_csv('Data/2022/OpenKontiLUQS_CHOR_vorjahre_validiert.csv', sep=';')\n",
      "C:\\Users\\riven\\AppData\\Local\\Temp\\ipykernel_15940\\3549922146.py:6: DtypeWarning: Columns (2,6,8) have mixed types. Specify dtype option on import or set low_memory=False.\n",
      "  rod_2022_weather = pd.read_csv('Data/2022/OpenKontiLUQS_RODE_vorjahre_validiert.csv', sep=';')\n"
     ]
    }
   ],
   "source": [
    "# load the data for the weather\n",
    "\n",
    "chor_2022_weather = pd.read_csv('Data/2022/OpenKontiLUQS_CHOR_vorjahre_validiert.csv', sep=';')\n",
    "cle_2022_weather = pd.read_csv('Data/2022/OpenKontiLUQS_VKCL_vorjahre_validiert.csv', sep=';')\n",
    "turi_2022_weather = pd.read_csv('Data/2022/OpenKontiLUQS_VKTU_vorjahre_validiert.csv', sep=';')\n",
    "rod_2022_weather = pd.read_csv('Data/2022/OpenKontiLUQS_RODE_vorjahre_validiert.csv', sep=';')\n",
    "\n",
    "\n",
    "#last half of 2023 and 2024\n",
    "chor_2324_weather = pd.read_csv('Data/2024/CHOR.csv', sep=';')\n",
    "cle_2324_weather = pd.read_csv('Data/2024/VKCL.csv', sep=';')\n",
    "turi_2324_weather = pd.read_csv('Data/2024/VKCL.csv', sep=';')\n",
    "rod_2324_weather = pd.read_csv('Data/2024/RODE.csv', sep=';')\n",
    "\n",
    "\n",
    "#weather for the first half of 2023\n",
    "chor_2023_1st_half_weather = pd.read_csv('Data/2023/weather_2023_1st_half.csv', sep=';')\n",
    "\n"
   ]
  },
  {
   "cell_type": "code",
   "execution_count": 51,
   "metadata": {},
   "outputs": [],
   "source": [
    "chor_2022_weather = chor_2022_weather[chor_2022_weather.index > 331990]\n",
    "cle_2022_weather = cle_2022_weather[cle_2022_weather.index > 131495]\n",
    "rod_2022_weather = rod_2022_weather[rod_2022_weather.index > 359399]\n",
    "turi_2022_weather = turi_2022_weather[turi_2022_weather.index > 131495]"
   ]
  },
  {
   "cell_type": "code",
   "execution_count": 52,
   "metadata": {},
   "outputs": [],
   "source": [
    "def reformate_timestamp(df):\n",
    "    df['Zeit'] = df['Zeit'].str.replace('24:00:00', '00:00')\n",
    "    df['Zeit']= df['Zeit'].str.replace('24:00', '00:00')\n",
    "    df['Zeit'] = pd.to_datetime(df['Zeit'], format='%H:%M')\n",
    "    df['Datum'] = pd.to_datetime(df['Datum'], format='%d.%m.%Y')\n",
    "    df['Zeit'] = pd.to_timedelta(df['Zeit'].dt.strftime('%H:%M:%S'))\n",
    "    df['timestamp'] = df['Datum'] + df['Zeit']\n",
    "    \n",
    "    df.loc[df['timestamp'].dt.hour == 0, 'timestamp'] += pd.Timedelta(days=1)\n",
    "    \n",
    "    df.drop(['Datum', 'Zeit'], axis=1, inplace=True)\n",
    "    \n",
    "    return df"
   ]
  },
  {
   "cell_type": "code",
   "execution_count": 53,
   "metadata": {},
   "outputs": [],
   "source": [
    "chor_2022_weather = reformate_timestamp(chor_2022_weather)\n",
    "cle_2022_weather = reformate_timestamp(cle_2022_weather)\n",
    "rod_2022_weather = reformate_timestamp(rod_2022_weather)\n",
    "turi_2022_weather = reformate_timestamp(turi_2022_weather)\n",
    "\n",
    "chor_2324_weather = reformate_timestamp(chor_2324_weather)\n",
    "cle_2324_weather = reformate_timestamp(cle_2324_weather)\n",
    "rod_2324_weather = reformate_timestamp(rod_2324_weather)\n",
    "turi_2324_weather = reformate_timestamp(turi_2324_weather)\n"
   ]
  },
  {
   "cell_type": "code",
   "execution_count": 54,
   "metadata": {},
   "outputs": [],
   "source": [
    "end_2023 = pd.to_datetime('2023-12-01-31 23:00:00')\n",
    "begin_2023 = pd.to_datetime('2023-06-01 00:00:00')\n",
    "first_quarter_2024 = pd.to_datetime('2024-03-31 23:00:00')\n",
    "\n",
    "chor_2023_weather = chor_2324_weather[(chor_2324_weather['timestamp'] <= end_2023)& (chor_2324_weather['timestamp'] >= begin_2023)]\n",
    "\n",
    "cle_2023_weather = cle_2324_weather[(cle_2324_weather['timestamp'] <= end_2023)& (cle_2324_weather['timestamp'] >= begin_2023)]\n",
    "rod_2023_weather = rod_2324_weather[(rod_2324_weather['timestamp'] <= end_2023)& (rod_2324_weather['timestamp'] >= begin_2023)]\n",
    "turi_2023_weather = turi_2324_weather[(turi_2324_weather['timestamp'] <= end_2023)& (turi_2324_weather['timestamp'] >= begin_2023)]\n",
    "\n",
    "\n",
    "chor_2024_weather = chor_2324_weather[(chor_2324_weather['timestamp'] > end_2023)& (chor_2324_weather['timestamp'] <= first_quarter_2024)]\n",
    "cle_2024_weather = cle_2324_weather[(cle_2324_weather['timestamp'] > end_2023)& (cle_2324_weather['timestamp'] <= first_quarter_2024)]\n",
    "rod_2024_weather = rod_2324_weather[(rod_2324_weather['timestamp'] > end_2023)& (rod_2324_weather['timestamp'] <= first_quarter_2024)]\n",
    "turi_2024_weather = turi_2324_weather[(turi_2324_weather['timestamp'] > end_2023)& (turi_2324_weather['timestamp'] <= first_quarter_2024)]\n",
    "\n"
   ]
  },
  {
   "cell_type": "code",
   "execution_count": 55,
   "metadata": {},
   "outputs": [],
   "source": [
    "def reformat_numeric_values_weather(df):\n",
    "    for column in df.columns:\n",
    "        if column != 'timestamp':\n",
    "            df[column] = df[column].replace('<', '', regex=True)\n",
    "            df[column] = pd.to_numeric(df[column].replace(',', '.', regex=True), errors='coerce')\n",
    "    return df\n",
    "    "
   ]
  },
  {
   "cell_type": "code",
   "execution_count": 56,
   "metadata": {},
   "outputs": [
    {
     "name": "stderr",
     "output_type": "stream",
     "text": [
      "C:\\Users\\riven\\AppData\\Local\\Temp\\ipykernel_15940\\269016354.py:4: FutureWarning: Downcasting behavior in `replace` is deprecated and will be removed in a future version. To retain the old behavior, explicitly call `result.infer_objects(copy=False)`. To opt-in to the future behavior, set `pd.set_option('future.no_silent_downcasting', True)`\n",
      "  df[column] = df[column].replace('<', '', regex=True)\n",
      "C:\\Users\\riven\\AppData\\Local\\Temp\\ipykernel_15940\\269016354.py:4: SettingWithCopyWarning: \n",
      "A value is trying to be set on a copy of a slice from a DataFrame.\n",
      "Try using .loc[row_indexer,col_indexer] = value instead\n",
      "\n",
      "See the caveats in the documentation: https://pandas.pydata.org/pandas-docs/stable/user_guide/indexing.html#returning-a-view-versus-a-copy\n",
      "  df[column] = df[column].replace('<', '', regex=True)\n",
      "C:\\Users\\riven\\AppData\\Local\\Temp\\ipykernel_15940\\269016354.py:5: SettingWithCopyWarning: \n",
      "A value is trying to be set on a copy of a slice from a DataFrame.\n",
      "Try using .loc[row_indexer,col_indexer] = value instead\n",
      "\n",
      "See the caveats in the documentation: https://pandas.pydata.org/pandas-docs/stable/user_guide/indexing.html#returning-a-view-versus-a-copy\n",
      "  df[column] = pd.to_numeric(df[column].replace(',', '.', regex=True), errors='coerce')\n"
     ]
    }
   ],
   "source": [
    "chor_2022_weather = reformat_numeric_values_weather(chor_2022_weather)\n",
    "cle_2022_weather = reformat_numeric_values_weather(cle_2022_weather)\n",
    "rod_2022_weather = reformat_numeric_values_weather(rod_2022_weather)\n",
    "turi_2022_weather = reformat_numeric_values_weather(turi_2022_weather)\n",
    "\n",
    "chor_2023_weather = reformat_numeric_values_weather(chor_2023_weather)\n",
    "cle_2023_weather = reformat_numeric_values_weather(cle_2023_weather)\n",
    "rod_2023_weather = reformat_numeric_values_weather(rod_2023_weather)\n",
    "turi_2023_weather = reformat_numeric_values_weather(turi_2023_weather)\n",
    "\n",
    "chor_2024_weather = reformat_numeric_values_weather(chor_2024_weather)\n",
    "cle_2024_weather = reformat_numeric_values_weather(cle_2024_weather)\n",
    "rod_2024_weather = reformat_numeric_values_weather(rod_2024_weather)\n",
    "turi_2024_weather = reformat_numeric_values_weather(turi_2024_weather)\n"
   ]
  },
  {
   "cell_type": "code",
   "execution_count": 59,
   "metadata": {},
   "outputs": [],
   "source": [
    "chor_2023_1st_half_weather = pd.read_csv('Data/2023/weather_2023_1st_half.csv', sep=',')\n",
    "\n"
   ]
  },
  {
   "cell_type": "code",
   "execution_count": 67,
   "metadata": {},
   "outputs": [
    {
     "name": "stdout",
     "output_type": "stream",
     "text": [
      "<class 'pandas.core.frame.DataFrame'>\n",
      "Index: 4416 entries, 575 to 4990\n",
      "Data columns (total 9 columns):\n",
      " #   Column      Non-Null Count  Dtype         \n",
      "---  ------      --------------  -----         \n",
      " 0   F[%]        4351 non-null   float64       \n",
      " 1   NO[g/m]     4182 non-null   float64       \n",
      " 2   NO2[g/m]    4182 non-null   float64       \n",
      " 3   O3[g/m]     4174 non-null   float64       \n",
      " 4   PM10F[g/m]  4328 non-null   float64       \n",
      " 5   T[°C]       4351 non-null   float64       \n",
      " 6   WG [m/s]    4334 non-null   float64       \n",
      " 7   WR          4101 non-null   float64       \n",
      " 8   timestamp   4416 non-null   datetime64[ns]\n",
      "dtypes: datetime64[ns](1), float64(8)\n",
      "memory usage: 345.0 KB\n"
     ]
    }
   ],
   "source": [
    "chor_2023_weather.info()"
   ]
  },
  {
   "cell_type": "code",
   "execution_count": 69,
   "metadata": {},
   "outputs": [],
   "source": [
    "chor_2022_weather.columns =['Humidity', 'NO','NO2','O3','PM_10','SO2','Temperature','Windspeed','WindDirection','timestamp']\n",
    "cle_2022_weather.columns =['Humidity', 'NO','NO2','PM_10','Temperature','Windspeed','WindDirection','timestamp']\n",
    "rod_2022_weather.columns =['Humidity', 'NO','NO2','O3','PM_10','SO2','Temperature','Windspeed','WindDirection','timestamp']\n",
    "turi_2022_weather.columns =['Humidity', 'NO','NO2','PM_10','Temperature','Windspeed','WindDirection','timestamp']\n",
    "\n",
    "chor_2023_weather.columns =['Humidity', 'NO','NO2','O3','PM_10','Temperature','Windspeed','WindDirection','timestamp']\n",
    "cle_2023_weather.columns =['Humidity', 'NO','NO2','PM_10','Temperature','Windspeed','WindDirection','timestamp']\n",
    "rod_2023_weather.columns =['Humidity', 'NO','NO2','O3','PM_10','Temperature','Windspeed','WindDirection','timestamp']\n",
    "turi_2023_weather.columns =['Humidity', 'NO','NO2','PM_10','Temperature','Windspeed','WindDirection','timestamp']\n",
    "\n",
    "chor_2024_weather.columns =['Humidity', 'NO','NO2','O3','PM_10','Temperature','Windspeed','WindDirection','timestamp']\n",
    "cle_2024_weather.columns =['Humidity', 'NO','NO2','PM_10','Temperature','Windspeed','WindDirection','timestamp']\n",
    "rod_2024_weather.columns =['Humidity', 'NO','NO2','O3','PM_10','Temperature','Windspeed','WindDirection','timestamp']\n",
    "turi_2024_weather.columns =['Humidity', 'NO','NO2','PM_10','Temperature','Windspeed','WindDirection','timestamp']\n",
    "\n",
    "\n"
   ]
  },
  {
   "cell_type": "code",
   "execution_count": 72,
   "metadata": {},
   "outputs": [
    {
     "name": "stdout",
     "output_type": "stream",
     "text": [
      "<class 'pandas.core.frame.DataFrame'>\n",
      "RangeIndex: 3649 entries, 0 to 3648\n",
      "Data columns (total 6 columns):\n",
      " #   Column         Non-Null Count  Dtype  \n",
      "---  ------         --------------  -----  \n",
      " 0   date           3649 non-null   object \n",
      " 1   F[%]           3649 non-null   float64\n",
      " 2   Precipitation  3649 non-null   float64\n",
      " 3   T[°C]          3649 non-null   float64\n",
      " 4   WR             3648 non-null   float64\n",
      " 5   WG[m/s]        3648 non-null   float64\n",
      "dtypes: float64(5), object(1)\n",
      "memory usage: 171.2+ KB\n"
     ]
    }
   ],
   "source": [
    "chor_2023_1st_half_weather.info()"
   ]
  },
  {
   "cell_type": "code",
   "execution_count": 75,
   "metadata": {},
   "outputs": [],
   "source": [
    "chor_2023_1st_half_weather.columns = ['timestamp', 'Humidity', 'Precipitation', 'Temperature', 'WindDirection', 'Windspeed']\n"
   ]
  },
  {
   "cell_type": "code",
   "execution_count": 89,
   "metadata": {},
   "outputs": [],
   "source": [
    "# load rain data\n",
    "rain_2024 = pd.read_csv('Data/2024/precipitation_q1_2024.csv')\n",
    "rain_2023 = pd.read_csv('Data/2023/precipitation_2023.csv')\n",
    "rain_2022 = pd.read_csv('Data/2022/rain_2022.csv')\n"
   ]
  },
  {
   "cell_type": "code",
   "execution_count": 91,
   "metadata": {},
   "outputs": [],
   "source": [
    "#merge rain data to weather data\n",
    "\n",
    "rain_2024['date'] = pd.to_datetime(rain_2024['date'], format='%Y-%m-%d %H:%M:%S+00:00')\n",
    "rain_2023['date'] = pd.to_datetime(rain_2023['date'], format='%Y-%m-%d %H:%M:%S+00:00')\n",
    "rain_2022['date'] = pd.to_datetime(rain_2022['date'])\n",
    "\n"
   ]
  },
  {
   "cell_type": "code",
   "execution_count": 93,
   "metadata": {},
   "outputs": [],
   "source": [
    "rain_2024 = rain_2024[['date', 'value']]\n",
    "rain_2023 = rain_2023[['date', 'value']]\n",
    "\n",
    "rain_2024.columns = ['timestamp', 'Precipitation']\n",
    "rain_2023.columns = ['timestamp', 'Precipitation']\n",
    "rain_2022.columns = ['timestamp', 'Precipitation']"
   ]
  },
  {
   "cell_type": "code",
   "execution_count": 94,
   "metadata": {},
   "outputs": [],
   "source": [
    "#merge the rain data to the weather data\n",
    "chor_2024_weather = pd.merge(chor_2024_weather, rain_2024, on='timestamp', how='left')\n",
    "cle_2024_weather = pd.merge(cle_2024_weather, rain_2024, on='timestamp', how='left')\n",
    "turi_2024_weather = pd.merge(turi_2024_weather, rain_2024, on='timestamp', how='left')\n",
    "rod_2024_weather = pd.merge(rod_2024_weather, rain_2024, on='timestamp', how='left')\n",
    "\n",
    "chor_2023_weather = pd.merge(chor_2023_weather, rain_2023, on='timestamp', how='left')\n",
    "cle_2023_weather = pd.merge(cle_2023_weather, rain_2023, on='timestamp', how='left')\n",
    "turi_2023_weather = pd.merge(turi_2023_weather, rain_2023, on='timestamp', how='left')\n",
    "rod_2023_weather = pd.merge(rod_2023_weather, rain_2023, on='timestamp', how='left')\n",
    "\n",
    "chor_2022_weather = pd.merge(chor_2022_weather, rain_2022, on='timestamp', how='left')\n",
    "cle_2022_weather = pd.merge(cle_2022_weather, rain_2022, on='timestamp', how='left')\n",
    "turi_2022_weather = pd.merge(turi_2022_weather, rain_2022, on='timestamp', how='left')\n",
    "rod_2022_weather = pd.merge(rod_2022_weather, rain_2022, on='timestamp', how='left')\n"
   ]
  },
  {
   "cell_type": "code",
   "execution_count": 98,
   "metadata": {},
   "outputs": [],
   "source": [
    "chor_2023_1st_half_weather['timestamp'] = pd.to_datetime(chor_2023_1st_half_weather['timestamp'])"
   ]
  },
  {
   "cell_type": "code",
   "execution_count": 233,
   "metadata": {},
   "outputs": [],
   "source": [
    "chor_2022_merged = pd.merge(chor_2022, chor_2022_weather,left_on='Date',right_on='timestamp',how='left')\n",
    "cle_2022_merged = pd.merge(cle_2022, cle_2022_weather,left_on='Date',right_on='timestamp',how='left')\n",
    "turi_2022_merged = pd.merge(turi_2022, turi_2022_weather,left_on='Date',right_on='timestamp',how='left')\n",
    "rod_2022_merged = pd.merge(rod_2022, rod_2022_weather,left_on='Date',right_on='timestamp',how='left')\n",
    "\n",
    "chor_2023_1st_half_merged = pd.merge(chor_2023_1st_half, chor_2023_1st_half_weather,left_on='Date',right_on='timestamp',how='left')\n",
    "cle_2023_1st_half_merged = pd.merge(cle_2023_1st_half, chor_2023_1st_half_weather,left_on='Date',right_on='timestamp',how='left')\n",
    "turi_2023_1st_half_merged = pd.merge(turi_2023_1st_half, chor_2023_1st_half_weather,left_on='Date',right_on='timestamp',how='left')\n",
    "rod_2023_1st_half_merged = pd.merge(rod_2023_1st_half, chor_2023_1st_half_weather,left_on='Date',right_on='timestamp',how='left')\n",
    "\n",
    "\n",
    "chor_2023_merged = pd.merge(chor_2023, chor_2023_weather,left_on='Date',right_on='timestamp',how='left')\n",
    "cle_2023_merged = pd.merge(cle_2023, cle_2023_weather,left_on='Date',right_on='timestamp',how='left')\n",
    "turi_2023_merged = pd.merge(turi_2023, turi_2023_weather,left_on='Date',right_on='timestamp',how='left')\n",
    "rod_2023_merged = pd.merge(rod_2023, rod_2023_weather,left_on='Date',right_on='timestamp',how='left')\n",
    "\n",
    "\n",
    "chor_2024_merged = pd.merge(chor_2024, chor_2024_weather,left_on='Date',right_on='timestamp',how='left')\n",
    "cle_2024_merged = pd.merge(cle_2024, cle_2024_weather,left_on='Date',right_on='timestamp',how='left')\n",
    "turi_2024_merged = pd.merge(turi_2024, turi_2024_weather,left_on='Date',right_on='timestamp',how='left')\n",
    "rod_2024_merged = pd.merge(rod_2024, rod_2024_weather,left_on='Date',right_on='timestamp',how='left')\n",
    "\n",
    "\n",
    "\n",
    "\n"
   ]
  },
  {
   "cell_type": "code",
   "execution_count": 234,
   "metadata": {},
   "outputs": [],
   "source": [
    "#fill nan in PM_10_x with PM_10_y, NO2_x with NO2_y, O3_x with O3_y, \n",
    "\n",
    "def fillNaN(df):\n",
    "    for index, row in df.iterrows():\n",
    "        if np.isnan(row['PM_10_x']):\n",
    "            df.at[index, 'PM_10_x'] = row['PM_10_y']\n",
    "            \n",
    "        if np.isnan(row['NO2_x']):\n",
    "            df.at[index, 'NO2_x'] = row['NO2_y']\n",
    "            \n",
    "        if 'O3_x' in df.columns:\n",
    "            if np.isnan(row['O3_x']):\n",
    "                df.at[index, 'O3_x'] = row['O3_y']\n",
    "    \n",
    "    if 'O3_y' in df.columns:\n",
    "        df.rename(columns={'PM_10_x': 'PM_10', 'NO2_x': 'NO2', 'O3_x': 'O3'}, inplace=True)\n",
    "        df.drop(['PM_10_y', 'NO2_y', 'O3_y'], axis=1, inplace=True)\n",
    "    else:\n",
    "        df.rename(columns={'PM_10_x': 'PM_10', 'NO2_x': 'NO2'}, inplace=True)\n",
    "        df.drop(['PM_10_y', 'NO2_y'], axis=1, inplace=True)\n",
    "        \n",
    "        \n",
    "    \n",
    "    return df\n",
    "    "
   ]
  },
  {
   "cell_type": "code",
   "execution_count": 235,
   "metadata": {},
   "outputs": [],
   "source": [
    "chor_2022_merged = fillNaN(chor_2022_merged)\n",
    "cle_2022_merged = fillNaN(cle_2022_merged)\n",
    "turi_2022_merged = fillNaN(turi_2022_merged)\n",
    "rod_2022_merged = fillNaN(rod_2022_merged)\n",
    "\n",
    "chor_2023_merged = fillNaN(chor_2023_merged)\n",
    "cle_2023_merged = fillNaN(cle_2023_merged)\n",
    "turi_2023_merged = fillNaN(turi_2023_merged)\n",
    "rod_2023_merged = fillNaN(rod_2023_merged)\n",
    "\n",
    "\n",
    "chor_2024_merged = fillNaN(chor_2024_merged)\n",
    "cle_2024_merged = fillNaN(cle_2024_merged)\n",
    "turi_2024_merged = fillNaN(turi_2024_merged)\n",
    "rod_2024_merged = fillNaN(rod_2024_merged)\n",
    "\n",
    "\n",
    "\n"
   ]
  },
  {
   "cell_type": "code",
   "execution_count": 236,
   "metadata": {},
   "outputs": [],
   "source": [
    "#drop the timestamp column\n",
    "\n",
    "chor_2022_merged.drop('timestamp', axis=1, inplace=True)\n",
    "cle_2022_merged.drop('timestamp', axis=1, inplace=True)\n",
    "turi_2022_merged.drop('timestamp', axis=1, inplace=True)\n",
    "rod_2022_merged.drop('timestamp', axis=1, inplace=True)\n",
    "\n",
    "\n",
    "chor_2023_1st_half_merged.drop('timestamp', axis=1, inplace=True)\n",
    "cle_2023_1st_half_merged.drop('timestamp', axis=1, inplace=True)\n",
    "turi_2023_1st_half_merged.drop('timestamp', axis=1, inplace=True)\n",
    "rod_2023_1st_half_merged.drop('timestamp', axis=1, inplace=True)\n",
    "\n",
    "chor_2023_merged.drop('timestamp', axis=1, inplace=True)\n",
    "cle_2023_merged.drop('timestamp', axis=1, inplace=True)\n",
    "turi_2023_merged.drop('timestamp', axis=1, inplace=True)\n",
    "rod_2023_merged.drop('timestamp', axis=1, inplace=True)\n",
    "\n",
    "\n",
    "chor_2024_merged.drop('timestamp', axis=1, inplace=True)\n",
    "cle_2024_merged.drop('timestamp', axis=1, inplace=True)\n",
    "turi_2024_merged.drop('timestamp', axis=1, inplace=True)\n",
    "rod_2024_merged.drop('timestamp', axis=1, inplace=True)\n",
    "\n",
    "# drop columns with all nans\n",
    "\n",
    "chor_2022_merged = chor_2022_merged.dropna(axis=1, how='all')\n",
    "cle_2022_merged = cle_2022_merged.dropna(axis=1, how='all')\n",
    "turi_2022_merged = turi_2022_merged.dropna(axis=1, how='all')\n",
    "rod_2022_merged = rod_2022_merged.dropna(axis=1, how='all')\n",
    "\n",
    "chor_2023_1st_half_merged = chor_2023_1st_half_merged.dropna(axis=1, how='all')\n",
    "cle_2023_1st_half_merged = cle_2023_1st_half_merged.dropna(axis=1, how='all')\n",
    "turi_2023_1st_half_merged = turi_2023_1st_half_merged.dropna(axis=1, how='all')\n",
    "rod_2023_1st_half_merged = rod_2023_1st_half_merged.dropna(axis=1, how='all')\n",
    "\n",
    "chor_2023_merged = chor_2023_merged.dropna(axis=1, how='all')\n",
    "cle_2023_merged = cle_2023_merged.dropna(axis=1, how='all')\n",
    "turi_2023_merged = turi_2023_merged.dropna(axis=1, how='all')\n",
    "rod_2023_merged = rod_2023_merged.dropna(axis=1, how='all')\n"
   ]
  },
  {
   "cell_type": "code",
   "execution_count": 237,
   "metadata": {},
   "outputs": [],
   "source": [
    "chor_2024_merged = chor_2024_merged.dropna(axis=1, how='all')   \n",
    "cle_2024_merged = cle_2024_merged.dropna(axis=1, how='all')\n",
    "turi_2024_merged = turi_2024_merged.dropna(axis=1, how='all')\n",
    "rod_2024_merged = rod_2024_merged.dropna(axis=1, how='all')"
   ]
  },
  {
   "cell_type": "code",
   "execution_count": 238,
   "metadata": {},
   "outputs": [],
   "source": [
    "#concatenate the dataframes\n",
    "chor_training = pd.concat([chor_2022_merged, chor_2023_1st_half_merged, chor_2023_merged, chor_2024_merged], axis=0)\n",
    "cle_training = pd.concat([cle_2022_merged, cle_2023_1st_half_merged, cle_2023_merged, cle_2024_merged], axis=0)\n",
    "turi_training = pd.concat([turi_2022_merged, turi_2023_1st_half_merged, turi_2023_merged, turi_2024_merged], axis=0)\n",
    "rod_training = pd.concat([rod_2022_merged, rod_2023_1st_half_merged, rod_2023_merged, rod_2024_merged], axis=0)"
   ]
  },
  {
   "cell_type": "code",
   "execution_count": 239,
   "metadata": {},
   "outputs": [],
   "source": [
    "chor_training.dropna(axis=1, how='all', inplace=True)\n",
    "cle_training.dropna(axis=1, how='all', inplace=True)\n",
    "turi_training.dropna(axis=1, how='all', inplace=True)\n",
    "rod_training.dropna(axis=1, how='all', inplace=True)"
   ]
  },
  {
   "cell_type": "code",
   "execution_count": 240,
   "metadata": {},
   "outputs": [],
   "source": [
    "chor_training.reset_index(drop=True, inplace=True)\n",
    "cle_training.reset_index(drop=True, inplace=True)\n",
    "turi_training.reset_index(drop=True, inplace=True)\n",
    "rod_training.reset_index(drop=True, inplace=True)"
   ]
  },
  {
   "cell_type": "code",
   "execution_count": 241,
   "metadata": {},
   "outputs": [],
   "source": [
    "# stack the dataframes into one\n",
    "training_data = pd.concat([chor_training, cle_training, turi_training, rod_training], axis=0)\n",
    "\n"
   ]
  },
  {
   "cell_type": "code",
   "execution_count": 242,
   "metadata": {},
   "outputs": [
    {
     "name": "stdout",
     "output_type": "stream",
     "text": [
      "<class 'pandas.core.frame.DataFrame'>\n",
      "Index: 79023 entries, 0 to 19757\n",
      "Data columns (total 13 columns):\n",
      " #   Column         Non-Null Count  Dtype         \n",
      "---  ------         --------------  -----         \n",
      " 0   Stationscode   79023 non-null  object        \n",
      " 1   Date           79020 non-null  datetime64[ns]\n",
      " 2   PM_10          77171 non-null  float64       \n",
      " 3   O3             37850 non-null  float64       \n",
      " 4   NO2            76512 non-null  float64       \n",
      " 5   AQI            78571 non-null  object        \n",
      " 6   Humidity       75497 non-null  float64       \n",
      " 7   NO             58266 non-null  float64       \n",
      " 8   Temperature    75497 non-null  float64       \n",
      " 9   Windspeed      75312 non-null  float64       \n",
      " 10  WindDirection  71980 non-null  float64       \n",
      " 11  Precipitation  75932 non-null  float64       \n",
      " 12  PM_2.5         23617 non-null  float64       \n",
      "dtypes: datetime64[ns](1), float64(10), object(2)\n",
      "memory usage: 8.4+ MB\n"
     ]
    }
   ],
   "source": [
    "training_data.info()"
   ]
  },
  {
   "cell_type": "code",
   "execution_count": 243,
   "metadata": {},
   "outputs": [],
   "source": [
    "pm10 = training_data.drop(columns=['NO', 'NO2', 'O3',  'AQI','PM_2.5' ])\n",
    "no2 = training_data.drop(columns=['NO', 'PM_10', 'O3',  'AQI','PM_2.5' ])\n",
    "o3 = training_data.drop(columns=['NO', 'NO2', 'PM_10',  'AQI','PM_2.5' ])"
   ]
  },
  {
   "cell_type": "code",
   "execution_count": 245,
   "metadata": {},
   "outputs": [
    {
     "name": "stdout",
     "output_type": "stream",
     "text": [
      "<class 'pandas.core.frame.DataFrame'>\n",
      "Index: 79023 entries, 0 to 19757\n",
      "Data columns (total 9 columns):\n",
      " #   Column         Non-Null Count  Dtype         \n",
      "---  ------         --------------  -----         \n",
      " 0   Stationscode   79023 non-null  object        \n",
      " 1   Date           79020 non-null  datetime64[ns]\n",
      " 2   PM_10          77171 non-null  float64       \n",
      " 3   Humidity       75497 non-null  float64       \n",
      " 4   Temperature    75497 non-null  float64       \n",
      " 5   Windspeed      75312 non-null  float64       \n",
      " 6   WindDirection  71980 non-null  float64       \n",
      " 7   Precipitation  75932 non-null  float64       \n",
      " 8   PM_2.5         23617 non-null  float64       \n",
      "dtypes: datetime64[ns](1), float64(7), object(1)\n",
      "memory usage: 6.0+ MB\n"
     ]
    }
   ],
   "source": [
    "pm10.info()"
   ]
  },
  {
   "cell_type": "code",
   "execution_count": 247,
   "metadata": {},
   "outputs": [],
   "source": [
    "# export data\n",
    "training_data.to_csv('Data/Final datasets/full_training_data.csv', index=False)\n",
    "\n",
    "pm10.to_csv('Data/Final datasets/pm10_training_data.csv', index=False)\n",
    "no2.to_csv('Data/Final datasets/no2_training_data.csv', index=False)\n",
    "o3.to_csv('Data/Final datasets/o3_training_data.csv', index=False)\n",
    "\n",
    "chor_training.to_csv('Data/Final datasets/chor_training_data.csv', index=False)\n",
    "cle_training.to_csv('Data/Final datasets/cle_training_data.csv', index=False)\n",
    "turi_training.to_csv('Data/Final datasets/turi_training_data.csv', index=False)\n",
    "rod_training.to_csv('Data/Final datasets/rod_training_data.csv', index=False)\n"
   ]
  }
 ],
 "metadata": {
  "kernelspec": {
   "display_name": "thesis2",
   "language": "python",
   "name": "python3"
  },
  "language_info": {
   "codemirror_mode": {
    "name": "ipython",
    "version": 3
   },
   "file_extension": ".py",
   "mimetype": "text/x-python",
   "name": "python",
   "nbconvert_exporter": "python",
   "pygments_lexer": "ipython3",
   "version": "3.10.14"
  }
 },
 "nbformat": 4,
 "nbformat_minor": 2
}
